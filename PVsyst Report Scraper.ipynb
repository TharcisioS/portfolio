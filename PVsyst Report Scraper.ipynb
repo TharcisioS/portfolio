{
 "cells": [
  {
   "cell_type": "markdown",
   "metadata": {
    "id": "fjhUP2vDsWX3"
   },
   "source": [
    "## **PVSyst Report Scraper:**\n",
    "\n",
    "Search for specific measures in PVSyst Report PDF Files.\n",
    "<br><ul>This version looks for the DC Power (KWp), Speciffic Production (kWh/kWp), Produced Energy* and Performance Ratio (%) in the reports.\n",
    "<br><sub>*Since there are many possible configurations for each PVSyst report, a column with the calculated energy was added in the final dataframe <sub>"
   ]
  },
  {
   "cell_type": "markdown",
   "metadata": {
    "id": "Lp0nt5gTtVP7"
   },
   "source": [
    "### Import"
   ]
  },
  {
   "cell_type": "code",
   "execution_count": null,
   "metadata": {
    "colab": {
     "base_uri": "https://localhost:8080/"
    },
    "executionInfo": {
     "elapsed": 5531,
     "status": "ok",
     "timestamp": 1682440080228,
     "user": {
      "displayName": "Tharcisio Souza Silva",
      "userId": "16197416415434528190"
     },
     "user_tz": 180
    },
    "id": "E-bWYc026n5L",
    "outputId": "a5c6472e-8eee-407e-8307-ab5f9ca7e3e6"
   },
   "outputs": [],
   "source": [
    "import re\n",
    "from pathlib import Path\n",
    "from PyPDF2 import PdfReader\n",
    "import pandas as pd\n",
    "import os\n",
    "from tkinter.filedialog import askdirectory"
   ]
  },
  {
   "cell_type": "markdown",
   "metadata": {},
   "source": [
    "### Set Report Directory\n",
    "Define the directory where the PDF files are located."
   ]
  },
  {
   "cell_type": "code",
   "execution_count": null,
   "metadata": {},
   "outputs": [],
   "source": [
    "# By UI selection\n",
    "your_path = askdirectory(title='Open Directory')\n",
    "directory = Path(your_path)\n",
    "directory"
   ]
  },
  {
   "cell_type": "code",
   "execution_count": null,
   "metadata": {},
   "outputs": [],
   "source": [
    "# By pasting the path\n",
    "your_path = r'\\\\location' # Replace `\\\\location` with the right path\n",
    "directory = Path(your_path)\n",
    "directory"
   ]
  },
  {
   "cell_type": "markdown",
   "metadata": {
    "id": "QQc8nWfNZN2u"
   },
   "source": [
    "### Check for files inside direcotry"
   ]
  },
  {
   "cell_type": "code",
   "execution_count": null,
   "metadata": {},
   "outputs": [],
   "source": [
    "files_list = []\n",
    "for filename in directory.glob('*.pdf'):\n",
    "    # open the PDF file\n",
    "    files_list.append(str(filename).split('\\\\')[-1])\n",
    "\n",
    "print('Count of files:',len(files_list))\n",
    "files_list"
   ]
  },
  {
   "cell_type": "markdown",
   "metadata": {
    "id": "0L_dFu7SuJtP"
   },
   "source": [
    "### Scraper"
   ]
  },
  {
   "cell_type": "code",
   "execution_count": null,
   "metadata": {},
   "outputs": [],
   "source": [
    "# Define the patterns to search for\n",
    "pattern_kwp = '(\\d+)\\s+kWp' # DC power\n",
    "pattern_sp = r'Specific production (\\d+) kWh/kWp/year' # Specific production (EN)\n",
    "pattern_sp1 = r'Specific prod. (\\d+) kWh/kWp/year' # Specific production abreviated (EN)\n",
    "pattern_sp_pt = r'Produção específica (\\d+) kWh/kWp/ano' # Specific production (PT)\n",
    "pattern_ener = r'Produced Energy (\\d+)' # Produced Energy (EN)\n",
    "pattern_ener_gw_pt = r'Energia produzida (\\d+)' # Produced Energy (PT)\n",
    "pattern_pr = r'\\d+\\.\\d+\\s*%' # Production Ratio\n",
    "\n",
    "files = []\n",
    "dc_pwr = []\n",
    "spec_prod = []\n",
    "ener = []\n",
    "pr = []\n",
    "errors = []\n",
    "\n",
    "# Loop through all the PDF files in the directory\n",
    "for full_file_path in directory.glob('*.pdf'):\n",
    "    # open the PDF file\n",
    "    try:\n",
    "        with open(full_file_path, 'rb') as file: # Open the PDF file\n",
    "            \n",
    "            file_name = str(full_file_path).split('\\\\')[-1]\n",
    "            \n",
    "            pdf_reader = PdfReader(file) # Instance the file as a PdfReader object\n",
    "            # And extract the text from pages 0, 1 and 2\n",
    "            text0 = pdf_reader.pages[0].extract_text()\n",
    "            text = pdf_reader.pages[1].extract_text() + pdf_reader.pages[2].extract_text()\n",
    "            \n",
    "            # Search for the patterns in the texts\n",
    "            match_kwp = re.search(pattern_kwp, text0)\n",
    "            match_sp = re.search(pattern_sp, text)\n",
    "            match_sp1 = re.search(pattern_sp1, text)\n",
    "            match_sp_pt = re.search(pattern_sp_pt, text)\n",
    "            match_ener = re.search(pattern_ener, text)\n",
    "            match_ener_gw_pt = re.search(pattern_ener_gw_pt, text)\n",
    "            match_pr = re.search(pattern_pr, text)\n",
    "                \n",
    "            # print the file name and the matched number\n",
    "            files.append(file_name)\n",
    "            \n",
    "            \n",
    "            # Append the matched values to the respective lists, else append 'error'\n",
    "            if match_kwp:\n",
    "                dc_pwr.append(match_kwp.group(1))\n",
    "            else:\n",
    "                dc_pwr.append('error')\n",
    "            #\n",
    "            if match_sp:\n",
    "                spec_prod.append(match_sp.group(1))\n",
    "            elif match_sp1:\n",
    "                spec_prod.append(match_sp1.group(1))\n",
    "            elif match_sp_pt:\n",
    "                spec_prod.append(match_sp_pt.group(1))\n",
    "            else:\n",
    "                spec_prod.append('error')\n",
    "            #\n",
    "            if match_ener:\n",
    "                ener.append(match_ener.group(1))\n",
    "            elif match_ener_gw_pt:\n",
    "                ener.append(match_ener_gw_pt.group(1))\n",
    "            else:\n",
    "                ener.append(\"error\")\n",
    "            #\n",
    "            if match_pr:\n",
    "                pr.append(match_pr.group())\n",
    "            else:\n",
    "                pr.append('error')\n",
    "    except Exception as e:\n",
    "        errors.append(file_name)\n",
    "\n",
    "result_df = pd.DataFrame(data=zip(files, dc_pwr, spec_prod, ener, pr), columns='File DC_Power Specific_Production Injected_Energy PR'.split())\n",
    "result_df['Calculated_Energy'] = pd.to_numeric(result_df['DC_Power'])*pd.to_numeric(result_df['Specific_Production'])/1000"
   ]
  },
  {
   "cell_type": "code",
   "execution_count": null,
   "metadata": {},
   "outputs": [],
   "source": [
    "result_df"
   ]
  },
  {
   "cell_type": "code",
   "execution_count": null,
   "metadata": {},
   "outputs": [],
   "source": [
    "errors"
   ]
  },
  {
   "cell_type": "code",
   "execution_count": null,
   "metadata": {},
   "outputs": [],
   "source": [
    "def open_errors(error_list, dir, limit=10) -> None:\n",
    "    '''\n",
    "    Open externaly the files that couldn't be scraped by the code.\n",
    "    Limit of openned files defined by arg 'limit' (10 by default)\n",
    "    '''\n",
    "    for i, file_name in enumerate(error_list):\n",
    "        if not i >= limit:\n",
    "            os.startfile(Path(str(dir)+'\\\\'+file_name))\n",
    "    return\n",
    "\n",
    "open_errors(errors, directory)\n"
   ]
  }
 ],
 "metadata": {
  "colab": {
   "authorship_tag": "ABX9TyOtez0jg9zNM+OaDwJfw8i8",
   "mount_file_id": "1v-D5mv8FXPfVRv_uNlpqYZgbcSDccLlC",
   "provenance": []
  },
  "kernelspec": {
   "display_name": "Python 3 (ipykernel)",
   "language": "python",
   "name": "python3"
  },
  "language_info": {
   "codemirror_mode": {
    "name": "ipython",
    "version": 3
   },
   "file_extension": ".py",
   "mimetype": "text/x-python",
   "name": "python",
   "nbconvert_exporter": "python",
   "pygments_lexer": "ipython3",
   "version": "3.11.7"
  }
 },
 "nbformat": 4,
 "nbformat_minor": 1
}
