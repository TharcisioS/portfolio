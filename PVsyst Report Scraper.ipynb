{
 "cells": [
  {
   "cell_type": "markdown",
   "metadata": {
    "id": "fjhUP2vDsWX3"
   },
   "source": [
    "## **PVSyst Report Scraper:**\n",
    "\n",
    "Search for specific measures in PVSyst Report PDF Files;"
   ]
  },
  {
   "cell_type": "markdown",
   "metadata": {
    "id": "Lp0nt5gTtVP7"
   },
   "source": [
    "### Import"
   ]
  },
  {
   "cell_type": "code",
   "execution_count": null,
   "metadata": {
    "colab": {
     "base_uri": "https://localhost:8080/"
    },
    "executionInfo": {
     "elapsed": 5531,
     "status": "ok",
     "timestamp": 1682440080228,
     "user": {
      "displayName": "Tharcisio Souza Silva",
      "userId": "16197416415434528190"
     },
     "user_tz": 180
    },
    "id": "E-bWYc026n5L",
    "outputId": "a5c6472e-8eee-407e-8307-ab5f9ca7e3e6"
   },
   "outputs": [],
   "source": [
    "import re\n",
    "from pathlib import Path\n",
    "from PyPDF2 import PdfReader\n",
    "import pandas as pd\n",
    "import os\n",
    "from tkinter.filedialog import askdirectory"
   ]
  },
  {
   "cell_type": "markdown",
   "metadata": {
    "id": "8pr3vTViteGE"
   },
   "source": [
    "### Set Report Directory\n",
    "Define the directory where the PDF files are located."
   ]
  },
  {
   "cell_type": "code",
   "execution_count": null,
   "metadata": {},
   "outputs": [],
   "source": [
    "# By UI selection\n",
    "your_path = askdirectory(title='Open Directory')\n",
    "directory = Path(your_path)\n",
    "directory"
   ]
  },
  {
   "cell_type": "code",
   "execution_count": null,
   "metadata": {
    "executionInfo": {
     "elapsed": 3,
     "status": "ok",
     "timestamp": 1682440082549,
     "user": {
      "displayName": "Tharcisio Souza Silva",
      "userId": "16197416415434528190"
     },
     "user_tz": 180
    },
    "id": "K6HCXVjDtm3p"
   },
   "outputs": [],
   "source": [
    "# By pasting the path\n",
    "your_path = r'\\\\location' # Replace `\\\\location` with the right path\n",
    "directory = Path(your_path)\n",
    "directory"
   ]
  },
  {
   "cell_type": "markdown",
   "metadata": {
    "id": "QQc8nWfNZN2u"
   },
   "source": [
    "### Check for files inside direcotry"
   ]
  },
  {
   "cell_type": "code",
   "execution_count": null,
   "metadata": {},
   "outputs": [],
   "source": [
    "files_list = []\n",
    "for filename in directory.glob('*.pdf'):\n",
    "    # open the PDF file\n",
    "    files_list.append(str(filename).split('\\\\')[-1])\n",
    "\n",
    "print('Count of files:',len(files_list))\n",
    "files_list"
   ]
  },
  {
   "cell_type": "markdown",
   "metadata": {
    "id": "0L_dFu7SuJtP"
   },
   "source": [
    "### Scraper"
   ]
  },
  {
   "cell_type": "code",
   "execution_count": null,
   "metadata": {
    "colab": {
     "base_uri": "https://localhost:8080/",
     "height": 424
    },
    "collapsed": true,
    "executionInfo": {
     "elapsed": 9830,
     "status": "ok",
     "timestamp": 1682431498845,
     "user": {
      "displayName": "Tharcisio Souza Silva",
      "userId": "16197416415434528190"
     },
     "user_tz": 180
    },
    "id": "Fp1q6IqdVYjd",
    "outputId": "32295d93-9f01-4ba1-a3e5-f576a3d67183"
   },
   "outputs": [],
   "source": [
    "# Define the pattern to search for\n",
    "pattern = r'Specific production (\\d+) kWh/kWp/year'\n",
    "\n",
    "files =[]\n",
    "spec_prod = []\n",
    "errors = []\n",
    "# Loop through all the PDF files in the directory\n",
    "for full_file_path in directory.glob('*.pdf'):\n",
    "    \n",
    "    with open(full_file_path, 'rb') as file: # Open the PDF file\n",
    "        \n",
    "        file_name = str(full_file_path).split('\\\\')[-1]\n",
    "        pdf_reader = PdfReader(file) # Instance the file as a PdfReader object \n",
    "        text = pdf_reader.pages[1].extract_text() + pdf_reader.pages[2].extract_text() # and extract the text from pages 1 and 2\n",
    "        \n",
    "        match = re.search(pattern, text) # search for the pattern in the text\n",
    "        \n",
    "        if match:\n",
    "            # append the file name and the matched PE value to the lists\n",
    "            files.append(file_name)\n",
    "            spec_prod.append(match.group(1))\n",
    "        else:\n",
    "            errors.append(file_name)\n",
    "\n",
    "result_df = pd.DataFrame(data=zip(files, spec_prod),columns='PV_Plant Spec_Prod'.split())\n"
   ]
  },
  {
   "cell_type": "code",
   "execution_count": null,
   "metadata": {},
   "outputs": [],
   "source": [
    "result_df"
   ]
  },
  {
   "cell_type": "code",
   "execution_count": null,
   "metadata": {},
   "outputs": [],
   "source": [
    "errors"
   ]
  },
  {
   "cell_type": "code",
   "execution_count": null,
   "metadata": {},
   "outputs": [],
   "source": [
    "def open_errors(error_list, dir, limit=10) -> None:\n",
    "    '''\n",
    "    Open externaly the files that couldn't be scraped by the code.\n",
    "    Limit of openned files defined by arg 'limit' (10 by default)\n",
    "    '''\n",
    "    for i, file_name in enumerate(error_list):\n",
    "        if not i >= limit:\n",
    "            os.startfile(Path(str(dir)+'\\\\'+file_name))\n",
    "    return\n",
    "\n",
    "open_errors(errors, directory)\n"
   ]
  }
 ],
 "metadata": {
  "colab": {
   "authorship_tag": "ABX9TyOtez0jg9zNM+OaDwJfw8i8",
   "mount_file_id": "1v-D5mv8FXPfVRv_uNlpqYZgbcSDccLlC",
   "provenance": []
  },
  "kernelspec": {
   "display_name": "Python 3 (ipykernel)",
   "language": "python",
   "name": "python3"
  },
  "language_info": {
   "codemirror_mode": {
    "name": "ipython",
    "version": 3
   },
   "file_extension": ".py",
   "mimetype": "text/x-python",
   "name": "python",
   "nbconvert_exporter": "python",
   "pygments_lexer": "ipython3",
   "version": "3.11.7"
  }
 },
 "nbformat": 4,
 "nbformat_minor": 1
}
